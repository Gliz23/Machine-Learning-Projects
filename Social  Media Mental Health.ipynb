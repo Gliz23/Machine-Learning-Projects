{
 "cells": [
  {
   "cell_type": "code",
   "execution_count": 41,
   "id": "9aa9cb93",
   "metadata": {},
   "outputs": [],
   "source": [
    "import pandas as pd\n",
    "\n",
    "from sklearn.tree import DecisionTreeRegressor\n",
    "from sklearn.metrics import mean_absolute_error\n",
    "\n",
    "from sklearn.model_selection import train_test_split"
   ]
  },
  {
   "cell_type": "code",
   "execution_count": 42,
   "id": "8aab319b",
   "metadata": {},
   "outputs": [],
   "source": [
    "smmh_file_path = 'smmh.csv'\n",
    "smmh_data = pd.read_csv(smmh_file_path)\n",
    "\n",
    "# smmh_data.describe()"
   ]
  },
  {
   "cell_type": "code",
   "execution_count": 43,
   "id": "c72d5ee8",
   "metadata": {},
   "outputs": [],
   "source": [
    "# smmh_data.head()"
   ]
  },
  {
   "cell_type": "code",
   "execution_count": 44,
   "id": "7f8b9351",
   "metadata": {},
   "outputs": [],
   "source": [
    "# smmh_data.columns"
   ]
  },
  {
   "cell_type": "code",
   "execution_count": 45,
   "id": "f406e67d",
   "metadata": {},
   "outputs": [],
   "source": [
    "smmh_data = smmh_data.dropna(axis = 0)"
   ]
  },
  {
   "cell_type": "code",
   "execution_count": 70,
   "id": "48d3d370",
   "metadata": {},
   "outputs": [],
   "source": [
    "smmh_features = ['Age ', 'NumberofSocialMediaPlatforms', 'Frequency', 'Distraction', 'Restlessness', 'Anxiety','SelfComparision', 'PostSentiment',\n",
    "       'ValidationSeeking', 'Depression', 'ActivityInterest Variance',\n",
    "       'Sleeplessness']\n",
    "\n",
    "X = smmh_data[smmh_features]\n",
    "\n",
    "y = smmh_data.ConcentrationDifficulty\n",
    "\n",
    "train_X, val_X, train_y, val_y = train_test_split(X, y, random_state=0)"
   ]
  },
  {
   "cell_type": "code",
   "execution_count": 71,
   "id": "a82b4890",
   "metadata": {},
   "outputs": [
    {
     "data": {
      "text/html": [
       "<div>\n",
       "<style scoped>\n",
       "    .dataframe tbody tr th:only-of-type {\n",
       "        vertical-align: middle;\n",
       "    }\n",
       "\n",
       "    .dataframe tbody tr th {\n",
       "        vertical-align: top;\n",
       "    }\n",
       "\n",
       "    .dataframe thead th {\n",
       "        text-align: right;\n",
       "    }\n",
       "</style>\n",
       "<table border=\"1\" class=\"dataframe\">\n",
       "  <thead>\n",
       "    <tr style=\"text-align: right;\">\n",
       "      <th></th>\n",
       "      <th>Age</th>\n",
       "      <th>NumberofSocialMediaPlatforms</th>\n",
       "      <th>Frequency</th>\n",
       "      <th>Distraction</th>\n",
       "      <th>Restlessness</th>\n",
       "      <th>Anxiety</th>\n",
       "      <th>SelfComparision</th>\n",
       "      <th>PostSentiment</th>\n",
       "      <th>ValidationSeeking</th>\n",
       "      <th>Depression</th>\n",
       "      <th>ActivityInterest Variance</th>\n",
       "      <th>Sleeplessness</th>\n",
       "    </tr>\n",
       "  </thead>\n",
       "  <tbody>\n",
       "    <tr>\n",
       "      <th>count</th>\n",
       "      <td>359.000000</td>\n",
       "      <td>359.000000</td>\n",
       "      <td>359.000000</td>\n",
       "      <td>359.000000</td>\n",
       "      <td>359.000000</td>\n",
       "      <td>359.000000</td>\n",
       "      <td>359.000000</td>\n",
       "      <td>359.000000</td>\n",
       "      <td>359.000000</td>\n",
       "      <td>359.000000</td>\n",
       "      <td>359.000000</td>\n",
       "      <td>359.000000</td>\n",
       "    </tr>\n",
       "    <tr>\n",
       "      <th>mean</th>\n",
       "      <td>26.553482</td>\n",
       "      <td>4.317549</td>\n",
       "      <td>3.378830</td>\n",
       "      <td>3.317549</td>\n",
       "      <td>2.623955</td>\n",
       "      <td>3.590529</td>\n",
       "      <td>2.866295</td>\n",
       "      <td>2.791086</td>\n",
       "      <td>2.512535</td>\n",
       "      <td>3.225627</td>\n",
       "      <td>3.161560</td>\n",
       "      <td>3.214485</td>\n",
       "    </tr>\n",
       "    <tr>\n",
       "      <th>std</th>\n",
       "      <td>10.420022</td>\n",
       "      <td>1.988655</td>\n",
       "      <td>1.182365</td>\n",
       "      <td>1.315782</td>\n",
       "      <td>1.244243</td>\n",
       "      <td>1.273722</td>\n",
       "      <td>1.409844</td>\n",
       "      <td>1.058791</td>\n",
       "      <td>1.220969</td>\n",
       "      <td>1.301830</td>\n",
       "      <td>1.277906</td>\n",
       "      <td>1.432352</td>\n",
       "    </tr>\n",
       "    <tr>\n",
       "      <th>min</th>\n",
       "      <td>13.000000</td>\n",
       "      <td>1.000000</td>\n",
       "      <td>1.000000</td>\n",
       "      <td>1.000000</td>\n",
       "      <td>1.000000</td>\n",
       "      <td>1.000000</td>\n",
       "      <td>1.000000</td>\n",
       "      <td>1.000000</td>\n",
       "      <td>1.000000</td>\n",
       "      <td>1.000000</td>\n",
       "      <td>1.000000</td>\n",
       "      <td>1.000000</td>\n",
       "    </tr>\n",
       "    <tr>\n",
       "      <th>25%</th>\n",
       "      <td>21.000000</td>\n",
       "      <td>3.000000</td>\n",
       "      <td>3.000000</td>\n",
       "      <td>2.000000</td>\n",
       "      <td>2.000000</td>\n",
       "      <td>3.000000</td>\n",
       "      <td>2.000000</td>\n",
       "      <td>2.000000</td>\n",
       "      <td>1.000000</td>\n",
       "      <td>2.000000</td>\n",
       "      <td>2.000000</td>\n",
       "      <td>2.000000</td>\n",
       "    </tr>\n",
       "    <tr>\n",
       "      <th>50%</th>\n",
       "      <td>22.000000</td>\n",
       "      <td>4.000000</td>\n",
       "      <td>3.000000</td>\n",
       "      <td>3.000000</td>\n",
       "      <td>3.000000</td>\n",
       "      <td>4.000000</td>\n",
       "      <td>3.000000</td>\n",
       "      <td>3.000000</td>\n",
       "      <td>3.000000</td>\n",
       "      <td>3.000000</td>\n",
       "      <td>3.000000</td>\n",
       "      <td>3.000000</td>\n",
       "    </tr>\n",
       "    <tr>\n",
       "      <th>75%</th>\n",
       "      <td>26.850000</td>\n",
       "      <td>6.000000</td>\n",
       "      <td>4.000000</td>\n",
       "      <td>4.000000</td>\n",
       "      <td>3.000000</td>\n",
       "      <td>5.000000</td>\n",
       "      <td>4.000000</td>\n",
       "      <td>3.000000</td>\n",
       "      <td>3.000000</td>\n",
       "      <td>4.000000</td>\n",
       "      <td>4.000000</td>\n",
       "      <td>4.000000</td>\n",
       "    </tr>\n",
       "    <tr>\n",
       "      <th>max</th>\n",
       "      <td>91.000000</td>\n",
       "      <td>9.000000</td>\n",
       "      <td>5.000000</td>\n",
       "      <td>5.000000</td>\n",
       "      <td>5.000000</td>\n",
       "      <td>5.000000</td>\n",
       "      <td>5.000000</td>\n",
       "      <td>5.000000</td>\n",
       "      <td>5.000000</td>\n",
       "      <td>5.000000</td>\n",
       "      <td>5.000000</td>\n",
       "      <td>5.000000</td>\n",
       "    </tr>\n",
       "  </tbody>\n",
       "</table>\n",
       "</div>"
      ],
      "text/plain": [
       "             Age   NumberofSocialMediaPlatforms   Frequency  Distraction  \\\n",
       "count  359.000000                    359.000000  359.000000   359.000000   \n",
       "mean    26.553482                      4.317549    3.378830     3.317549   \n",
       "std     10.420022                      1.988655    1.182365     1.315782   \n",
       "min     13.000000                      1.000000    1.000000     1.000000   \n",
       "25%     21.000000                      3.000000    3.000000     2.000000   \n",
       "50%     22.000000                      4.000000    3.000000     3.000000   \n",
       "75%     26.850000                      6.000000    4.000000     4.000000   \n",
       "max     91.000000                      9.000000    5.000000     5.000000   \n",
       "\n",
       "       Restlessness     Anxiety  SelfComparision  PostSentiment  \\\n",
       "count    359.000000  359.000000       359.000000     359.000000   \n",
       "mean       2.623955    3.590529         2.866295       2.791086   \n",
       "std        1.244243    1.273722         1.409844       1.058791   \n",
       "min        1.000000    1.000000         1.000000       1.000000   \n",
       "25%        2.000000    3.000000         2.000000       2.000000   \n",
       "50%        3.000000    4.000000         3.000000       3.000000   \n",
       "75%        3.000000    5.000000         4.000000       3.000000   \n",
       "max        5.000000    5.000000         5.000000       5.000000   \n",
       "\n",
       "       ValidationSeeking  Depression  ActivityInterest Variance  Sleeplessness  \n",
       "count         359.000000  359.000000                 359.000000     359.000000  \n",
       "mean            2.512535    3.225627                   3.161560       3.214485  \n",
       "std             1.220969    1.301830                   1.277906       1.432352  \n",
       "min             1.000000    1.000000                   1.000000       1.000000  \n",
       "25%             1.000000    2.000000                   2.000000       2.000000  \n",
       "50%             3.000000    3.000000                   3.000000       3.000000  \n",
       "75%             3.000000    4.000000                   4.000000       4.000000  \n",
       "max             5.000000    5.000000                   5.000000       5.000000  "
      ]
     },
     "execution_count": 71,
     "metadata": {},
     "output_type": "execute_result"
    }
   ],
   "source": [
    "train_X.describe()"
   ]
  },
  {
   "cell_type": "code",
   "execution_count": 72,
   "id": "9aa20db4",
   "metadata": {},
   "outputs": [
    {
     "data": {
      "text/plain": [
       "count    359.000000\n",
       "mean       3.303621\n",
       "std        1.324358\n",
       "min        1.000000\n",
       "25%        2.000000\n",
       "50%        3.000000\n",
       "75%        4.000000\n",
       "max        5.000000\n",
       "Name: ConcentrationDifficulty, dtype: float64"
      ]
     },
     "execution_count": 72,
     "metadata": {},
     "output_type": "execute_result"
    }
   ],
   "source": [
    "train_y.describe()"
   ]
  },
  {
   "cell_type": "code",
   "execution_count": 73,
   "id": "32283510",
   "metadata": {},
   "outputs": [
    {
     "data": {
      "text/plain": [
       "DecisionTreeRegressor()"
      ]
     },
     "execution_count": 73,
     "metadata": {},
     "output_type": "execute_result"
    }
   ],
   "source": [
    "smmh_model = DecisionTreeRegressor()\n",
    "\n",
    "smmh_model.fit(train_X,train_y)"
   ]
  },
  {
   "cell_type": "code",
   "execution_count": 74,
   "id": "d8609ccc",
   "metadata": {},
   "outputs": [
    {
     "name": "stdout",
     "output_type": "stream",
     "text": [
      "Concentration difficulty\n",
      "[3. 5. 3. 2. 5. 1. 1. 5. 4. 2. 5. 5. 2. 1. 5. 3. 2. 3. 2. 5. 2. 5. 3. 4.\n",
      " 4. 3. 4. 2. 3. 3. 4. 4. 4. 3. 5. 5. 5. 5. 2. 3. 4. 4. 3. 3. 2. 5. 2. 3.\n",
      " 2. 3. 1. 5. 5. 3. 5. 1. 5. 4. 4. 4. 1. 4. 5. 1. 3. 1. 5. 5. 4. 2. 1. 1.\n",
      " 3. 4. 1. 1. 4. 2. 2. 3. 4. 5. 5. 4. 4. 5. 5. 1. 3. 1. 3. 3. 4. 2. 3. 5.\n",
      " 2. 3. 3. 3. 5. 5. 1. 4. 2. 4. 4. 3. 2. 1. 4. 2. 4. 1. 4. 5. 3. 1. 3. 5.]\n"
     ]
    }
   ],
   "source": [
    "print(\"Concentration difficulty\")\n",
    "\n",
    "val_predictions = smmh_model.predict(val_X)\n",
    "print(val_predictions)"
   ]
  },
  {
   "cell_type": "code",
   "execution_count": 75,
   "id": "f0f77144",
   "metadata": {},
   "outputs": [
    {
     "name": "stdout",
     "output_type": "stream",
     "text": [
      "1.0083333333333333\n"
     ]
    }
   ],
   "source": [
    "# print the mean absolute error\n",
    "print(mean_absolute_error(val_y, val_predictions))"
   ]
  },
  {
   "cell_type": "code",
   "execution_count": null,
   "id": "fc0e7a8d",
   "metadata": {},
   "outputs": [],
   "source": [
    "\n",
    "\n"
   ]
  },
  {
   "cell_type": "code",
   "execution_count": null,
   "id": "02bc0c57",
   "metadata": {},
   "outputs": [],
   "source": []
  },
  {
   "cell_type": "code",
   "execution_count": null,
   "id": "b60fae8f",
   "metadata": {},
   "outputs": [],
   "source": []
  }
 ],
 "metadata": {
  "kernelspec": {
   "display_name": "Python 3 (ipykernel)",
   "language": "python",
   "name": "python3"
  },
  "language_info": {
   "codemirror_mode": {
    "name": "ipython",
    "version": 3
   },
   "file_extension": ".py",
   "mimetype": "text/x-python",
   "name": "python",
   "nbconvert_exporter": "python",
   "pygments_lexer": "ipython3",
   "version": "3.9.13"
  }
 },
 "nbformat": 4,
 "nbformat_minor": 5
}
